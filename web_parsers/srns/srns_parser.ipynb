{
 "cells": [
  {
   "cell_type": "markdown",
   "metadata": {},
   "source": [
    "# Сбор данных о членах Совета Республики НС VI созыва\n",
    "\n",
    "Ссылка - http://sovrep.gov.by/ru/senators-ru/"
   ]
  },
  {
   "cell_type": "code",
   "execution_count": 37,
   "metadata": {},
   "outputs": [],
   "source": [
    "from bs4 import BeautifulSoup as bs\n",
    "import requests\n",
    "import json\n",
    "import re\n",
    "from time import sleep"
   ]
  },
  {
   "cell_type": "code",
   "execution_count": null,
   "metadata": {},
   "outputs": [],
   "source": [
    "def save_image(image_url, image_name):\n",
    "    image = requests.get(image_url).content\n",
    "    image_ext = re.match(\"^.+\\.([a-z]+)$\", image_url).group(1)\n",
    "    with open(\"sovrep/img/{}.{}\".format(image_name, image_ext), \"wb\") as f:\n",
    "        f.write(image)\n",
    "\n",
    "def get_aides(aides):\n",
    "    try:\n",
    "        return { aide.find(\"div\", {\"class\": \"assistant_title\"}).get_text().strip(): aide.find(\"p\").get_text().strip() for aide in aides }\n",
    "    except AttributeError:\n",
    "        return { aide.find(\"div\", {\"class\": \"assistant_title\"}).get_text().strip(): aide.get_text().strip() for aide in aides }\n",
    "    except TypeError:\n",
    "        return None\n",
    "\n",
    "def get_personal_data(link):\n",
    "    page_id = re.match(\"^.+/(.+)/$\", link).group(1)\n",
    "    page = requests.get(link).content\n",
    "    soup = bs(page, \"html5lib\")\n",
    "    image_url = soup.find(\"div\", {\"class\": \"img_inner\"}).find(\"img\")[\"src\"]\n",
    "    image_ext = re.match(\"^.+\\.([a-z]+)$\", image_url).group(1)\n",
    "    save_image(image_url, page_id)\n",
    "    \n",
    "    main_info = soup.find_all(\"div\", {\"class\": \"person_text\"})\n",
    "    position = soup.find_all(\"div\", {\"class\": \"person_text\"})[0].get_text().strip()\n",
    "    \n",
    "    if len(main_info) > 1:\n",
    "        try:\n",
    "            commission = soup.find_all(\"div\", {\"class\": \"person_text\"})[1].find(\"a\").text.strip()\n",
    "        except AttributeError:\n",
    "            commission = None\n",
    "    else:\n",
    "        commission = None\n",
    "    \n",
    "    bio = soup.find(\"div\", {\"id\": \"biography_info\"}).get_text().strip()\n",
    "    \n",
    "    return {\n",
    "        \"page_id\": page_id,\n",
    "        \"image\": \"{}.{}\".format(page_id, image_ext),\n",
    "        \"general_info\": position,\n",
    "        \"commission\": commission,\n",
    "        \"bio\": bio,\n",
    "        \"aides\": get_aides(aides)\n",
    "    }"
   ]
  },
  {
   "cell_type": "code",
   "execution_count": 2,
   "metadata": {},
   "outputs": [],
   "source": [
    "url_main = \"http://sovrep.gov.by/ru/senators-ru/\"\n",
    "soup = bs(requests.get(url_main).content, \"html5lib\")\n",
    "people = soup.find(\"div\", {\"class\": \"left_col\"}).find_all(\"div\", {\"class\": \"news_title\"})"
   ]
  },
  {
   "cell_type": "code",
   "execution_count": 89,
   "metadata": {},
   "outputs": [],
   "source": [
    "data = {}\n",
    "for person in people:\n",
    "    fio = person.find(\"a\").get_text().strip()\n",
    "    url = person.find(\"a\")[\"href\"]\n",
    "    if fio not in data:\n",
    "        try:\n",
    "            data[fio] = get_personal_data(url)\n",
    "        except TypeError:\n",
    "            print(url)\n",
    "            continue\n",
    "    sleep(2)"
   ]
  },
  {
   "cell_type": "code",
   "execution_count": 90,
   "metadata": {},
   "outputs": [
    {
     "name": "stdout",
     "output_type": "stream",
     "text": [
      "56 56\n"
     ]
    }
   ],
   "source": [
    "print(len(people), len(data.keys()))"
   ]
  },
  {
   "cell_type": "code",
   "execution_count": 92,
   "metadata": {},
   "outputs": [],
   "source": [
    "with open(\"sovrep/VI sozyv/senatory.json\", \"w\") as f:\n",
    "    f.write(json.dumps(senatory_2019, ensure_ascii=False))"
   ]
  }
 ],
 "metadata": {
  "kernelspec": {
   "display_name": "Python 3",
   "language": "python",
   "name": "python3"
  },
  "language_info": {
   "codemirror_mode": {
    "name": "ipython",
    "version": 3
   },
   "file_extension": ".py",
   "mimetype": "text/x-python",
   "name": "python",
   "nbconvert_exporter": "python",
   "pygments_lexer": "ipython3",
   "version": "3.7.3"
  }
 },
 "nbformat": 4,
 "nbformat_minor": 4
}
