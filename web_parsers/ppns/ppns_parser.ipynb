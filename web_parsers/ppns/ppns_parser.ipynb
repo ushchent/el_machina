{
 "cells": [
  {
   "cell_type": "code",
   "execution_count": null,
   "metadata": {},
   "outputs": [],
   "source": [
    "from bs4 import BeautifulSoup as bs\n",
    "import requests\n",
    "import json\n",
    "import re\n",
    "from time import sleep"
   ]
  },
  {
   "cell_type": "code",
   "execution_count": null,
   "metadata": {},
   "outputs": [],
   "source": [
    "url = \"http://house.gov.by/ru/deputies-ru/\"\n",
    "main_page = requests.get(url)\n",
    "soup = bs(main_page.content, \"html5lib\")\n",
    "links = [item.find(\"a\")[\"href\"] for item in soup.find_all(\"div\", {\"class\": \"news_item_second\"})]"
   ]
  },
  {
   "cell_type": "code",
   "execution_count": null,
   "metadata": {},
   "outputs": [],
   "source": [
    "data = {}\n",
    "for link in links:\n",
    "    page = requests.get(link).content\n",
    "    soup = bs(page, \"html5lib\")\n",
    "    fio = soup.find(\"h1\").get_text()\n",
    "    data[fio] = {}\n",
    "    img_url = soup.find(\"div\", {\"class\": \"dep_img\"}).find(\"img\")[\"src\"]\n",
    "    img_name = re.match(\"^.+person/(.+)$\", img_url).group(1)\n",
    "    with open(\"/home/ushchent/vybory_2019/6_sozyv/img/{}\".format(img_name), \"wb\") as f:\n",
    "        image = requests.get(img_url)\n",
    "        f.write(image.content)\n",
    "    bio = soup.find(\"div\", {\"id\": \"biography_info\"}).get_text()\n",
    "    data[fio][\"id\"] = img_name\n",
    "    data[fio][\"bio\"] = bio\n",
    "    sleep(2)"
   ]
  },
  {
   "cell_type": "code",
   "execution_count": null,
   "metadata": {},
   "outputs": [],
   "source": [
    "with open(\"../web_parsers/ppns/vi_sozyv_data/deputaty_vi.json\", \"w\") as f:\n",
    "    f.write(json.dumps(data, ensure_ascii=False))"
   ]
  }
 ],
 "metadata": {
  "kernelspec": {
   "display_name": "Python 3",
   "language": "python",
   "name": "python3"
  },
  "language_info": {
   "codemirror_mode": {
    "name": "ipython",
    "version": 3
   },
   "file_extension": ".py",
   "mimetype": "text/x-python",
   "name": "python",
   "nbconvert_exporter": "python",
   "pygments_lexer": "ipython3",
   "version": "3.7.3"
  }
 },
 "nbformat": 4,
 "nbformat_minor": 4
}
